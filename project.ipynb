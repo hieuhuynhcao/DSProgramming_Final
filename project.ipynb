{
 "cells": [
  {
   "cell_type": "markdown",
   "metadata": {},
   "source": [
    "# INTRODUCTION"
   ]
  },
  {
   "cell_type": "markdown",
   "metadata": {},
   "source": [
    "| ID       | Fullname            |\n",
    "|----------|---------------------|\n",
    "| 19127399 | Huỳnh Cao Nhật Hiếu |\n",
    "| 19127444 | Ngô Đăng Khoa       | "
   ]
  },
  {
   "cell_type": "markdown",
   "metadata": {},
   "source": [
    "# LIBRARY"
   ]
  },
  {
   "cell_type": "code",
   "execution_count": 261,
   "metadata": {},
   "outputs": [],
   "source": [
    "import numpy as np\n",
    "import pandas as pd\n",
    "import seaborn as sns\n",
    "import matplotlib.pyplot as plt\n",
    "plt.style.use('seaborn')\n",
    "\n",
    "# Add addition library\n"
   ]
  },
  {
   "cell_type": "markdown",
   "metadata": {},
   "source": [
    "# PREPROCESSING DATA"
   ]
  },
  {
   "cell_type": "markdown",
   "metadata": {},
   "source": [
    "## *Read Data*"
   ]
  },
  {
   "cell_type": "code",
   "execution_count": 242,
   "metadata": {},
   "outputs": [],
   "source": [
    "# Load Data that I will investigate it\n",
    "df_match = pd.read_csv('Match.csv')\n",
    "df_player_attribute = pd.read_csv('Player_Attributes.csv')\n",
    "df_team_attribute = pd.read_csv('Team_Attributes.csv')\n",
    "df_team = pd.read_csv('Team.csv')\n",
    "df_player = pd.read_csv('Player.csv')\n",
    "df_country = pd.read_csv('Country.csv')\n",
    "df_league = pd.read_csv('League.csv')"
   ]
  },
  {
   "cell_type": "markdown",
   "metadata": {},
   "source": [
    "## *Preprocessing*"
   ]
  },
  {
   "cell_type": "code",
   "execution_count": 262,
   "metadata": {},
   "outputs": [
    {
     "data": {
      "text/html": [
       "<div>\n",
       "<style scoped>\n",
       "    .dataframe tbody tr th:only-of-type {\n",
       "        vertical-align: middle;\n",
       "    }\n",
       "\n",
       "    .dataframe tbody tr th {\n",
       "        vertical-align: top;\n",
       "    }\n",
       "\n",
       "    .dataframe thead th {\n",
       "        text-align: right;\n",
       "    }\n",
       "</style>\n",
       "<table border=\"1\" class=\"dataframe\">\n",
       "  <thead>\n",
       "    <tr style=\"text-align: right;\">\n",
       "      <th></th>\n",
       "      <th>id</th>\n",
       "      <th>country_id</th>\n",
       "      <th>league_id</th>\n",
       "      <th>season</th>\n",
       "      <th>date</th>\n",
       "      <th>match_api_id</th>\n",
       "      <th>home_team_api_id</th>\n",
       "      <th>away_team_api_id</th>\n",
       "      <th>home_team_goal</th>\n",
       "      <th>away_team_goal</th>\n",
       "    </tr>\n",
       "  </thead>\n",
       "  <tbody>\n",
       "    <tr>\n",
       "      <th>0</th>\n",
       "      <td>1</td>\n",
       "      <td>1</td>\n",
       "      <td>1</td>\n",
       "      <td>2008/2009</td>\n",
       "      <td>2008-08-17 00:00:00</td>\n",
       "      <td>492473</td>\n",
       "      <td>9987</td>\n",
       "      <td>9993</td>\n",
       "      <td>1</td>\n",
       "      <td>1</td>\n",
       "    </tr>\n",
       "    <tr>\n",
       "      <th>1</th>\n",
       "      <td>2</td>\n",
       "      <td>1</td>\n",
       "      <td>1</td>\n",
       "      <td>2008/2009</td>\n",
       "      <td>2008-08-16 00:00:00</td>\n",
       "      <td>492474</td>\n",
       "      <td>10000</td>\n",
       "      <td>9994</td>\n",
       "      <td>0</td>\n",
       "      <td>0</td>\n",
       "    </tr>\n",
       "    <tr>\n",
       "      <th>2</th>\n",
       "      <td>3</td>\n",
       "      <td>1</td>\n",
       "      <td>1</td>\n",
       "      <td>2008/2009</td>\n",
       "      <td>2008-08-16 00:00:00</td>\n",
       "      <td>492475</td>\n",
       "      <td>9984</td>\n",
       "      <td>8635</td>\n",
       "      <td>0</td>\n",
       "      <td>3</td>\n",
       "    </tr>\n",
       "    <tr>\n",
       "      <th>3</th>\n",
       "      <td>4</td>\n",
       "      <td>1</td>\n",
       "      <td>1</td>\n",
       "      <td>2008/2009</td>\n",
       "      <td>2008-08-17 00:00:00</td>\n",
       "      <td>492476</td>\n",
       "      <td>9991</td>\n",
       "      <td>9998</td>\n",
       "      <td>5</td>\n",
       "      <td>0</td>\n",
       "    </tr>\n",
       "    <tr>\n",
       "      <th>4</th>\n",
       "      <td>5</td>\n",
       "      <td>1</td>\n",
       "      <td>1</td>\n",
       "      <td>2008/2009</td>\n",
       "      <td>2008-08-16 00:00:00</td>\n",
       "      <td>492477</td>\n",
       "      <td>7947</td>\n",
       "      <td>9985</td>\n",
       "      <td>1</td>\n",
       "      <td>3</td>\n",
       "    </tr>\n",
       "    <tr>\n",
       "      <th>...</th>\n",
       "      <td>...</td>\n",
       "      <td>...</td>\n",
       "      <td>...</td>\n",
       "      <td>...</td>\n",
       "      <td>...</td>\n",
       "      <td>...</td>\n",
       "      <td>...</td>\n",
       "      <td>...</td>\n",
       "      <td>...</td>\n",
       "      <td>...</td>\n",
       "    </tr>\n",
       "    <tr>\n",
       "      <th>25974</th>\n",
       "      <td>25975</td>\n",
       "      <td>24558</td>\n",
       "      <td>24558</td>\n",
       "      <td>2015/2016</td>\n",
       "      <td>2015-09-22 00:00:00</td>\n",
       "      <td>1992091</td>\n",
       "      <td>10190</td>\n",
       "      <td>10191</td>\n",
       "      <td>1</td>\n",
       "      <td>0</td>\n",
       "    </tr>\n",
       "    <tr>\n",
       "      <th>25975</th>\n",
       "      <td>25976</td>\n",
       "      <td>24558</td>\n",
       "      <td>24558</td>\n",
       "      <td>2015/2016</td>\n",
       "      <td>2015-09-23 00:00:00</td>\n",
       "      <td>1992092</td>\n",
       "      <td>9824</td>\n",
       "      <td>10199</td>\n",
       "      <td>1</td>\n",
       "      <td>2</td>\n",
       "    </tr>\n",
       "    <tr>\n",
       "      <th>25976</th>\n",
       "      <td>25977</td>\n",
       "      <td>24558</td>\n",
       "      <td>24558</td>\n",
       "      <td>2015/2016</td>\n",
       "      <td>2015-09-23 00:00:00</td>\n",
       "      <td>1992093</td>\n",
       "      <td>9956</td>\n",
       "      <td>10179</td>\n",
       "      <td>2</td>\n",
       "      <td>0</td>\n",
       "    </tr>\n",
       "    <tr>\n",
       "      <th>25977</th>\n",
       "      <td>25978</td>\n",
       "      <td>24558</td>\n",
       "      <td>24558</td>\n",
       "      <td>2015/2016</td>\n",
       "      <td>2015-09-22 00:00:00</td>\n",
       "      <td>1992094</td>\n",
       "      <td>7896</td>\n",
       "      <td>10243</td>\n",
       "      <td>0</td>\n",
       "      <td>0</td>\n",
       "    </tr>\n",
       "    <tr>\n",
       "      <th>25978</th>\n",
       "      <td>25979</td>\n",
       "      <td>24558</td>\n",
       "      <td>24558</td>\n",
       "      <td>2015/2016</td>\n",
       "      <td>2015-09-23 00:00:00</td>\n",
       "      <td>1992095</td>\n",
       "      <td>10192</td>\n",
       "      <td>9931</td>\n",
       "      <td>4</td>\n",
       "      <td>3</td>\n",
       "    </tr>\n",
       "  </tbody>\n",
       "</table>\n",
       "<p>25979 rows × 10 columns</p>\n",
       "</div>"
      ],
      "text/plain": [
       "          id  country_id  league_id     season                 date  \\\n",
       "0          1           1          1  2008/2009  2008-08-17 00:00:00   \n",
       "1          2           1          1  2008/2009  2008-08-16 00:00:00   \n",
       "2          3           1          1  2008/2009  2008-08-16 00:00:00   \n",
       "3          4           1          1  2008/2009  2008-08-17 00:00:00   \n",
       "4          5           1          1  2008/2009  2008-08-16 00:00:00   \n",
       "...      ...         ...        ...        ...                  ...   \n",
       "25974  25975       24558      24558  2015/2016  2015-09-22 00:00:00   \n",
       "25975  25976       24558      24558  2015/2016  2015-09-23 00:00:00   \n",
       "25976  25977       24558      24558  2015/2016  2015-09-23 00:00:00   \n",
       "25977  25978       24558      24558  2015/2016  2015-09-22 00:00:00   \n",
       "25978  25979       24558      24558  2015/2016  2015-09-23 00:00:00   \n",
       "\n",
       "       match_api_id  home_team_api_id  away_team_api_id  home_team_goal  \\\n",
       "0            492473              9987              9993               1   \n",
       "1            492474             10000              9994               0   \n",
       "2            492475              9984              8635               0   \n",
       "3            492476              9991              9998               5   \n",
       "4            492477              7947              9985               1   \n",
       "...             ...               ...               ...             ...   \n",
       "25974       1992091             10190             10191               1   \n",
       "25975       1992092              9824             10199               1   \n",
       "25976       1992093              9956             10179               2   \n",
       "25977       1992094              7896             10243               0   \n",
       "25978       1992095             10192              9931               4   \n",
       "\n",
       "       away_team_goal  \n",
       "0                   1  \n",
       "1                   0  \n",
       "2                   3  \n",
       "3                   0  \n",
       "4                   3  \n",
       "...               ...  \n",
       "25974               0  \n",
       "25975               2  \n",
       "25976               0  \n",
       "25977               0  \n",
       "25978               3  \n",
       "\n",
       "[25979 rows x 10 columns]"
      ]
     },
     "execution_count": 262,
     "metadata": {},
     "output_type": "execute_result"
    }
   ],
   "source": [
    "match_features = ['id', 'country_id','league_id', 'season', 'date', 'match_api_id', \n",
    "                    'home_team_api_id', 'away_team_api_id', 'home_team_goal', 'away_team_goal']\n",
    "df_match = df_match[match_features]\n",
    "df_match"
   ]
  },
  {
   "cell_type": "code",
   "execution_count": null,
   "metadata": {},
   "outputs": [],
   "source": []
  },
  {
   "cell_type": "markdown",
   "metadata": {},
   "source": [
    "# GIVE THE QUESTION"
   ]
  },
  {
   "cell_type": "markdown",
   "metadata": {},
   "source": [
    "## 1.  Phân tích lối chơi các đội trong team Attributes"
   ]
  },
  {
   "cell_type": "code",
   "execution_count": null,
   "metadata": {},
   "outputs": [],
   "source": []
  },
  {
   "cell_type": "markdown",
   "metadata": {},
   "source": [
    "## 2. tìm ra hãng cược nào uy tín nhất đoán được nhiều kết quả nhất "
   ]
  },
  {
   "cell_type": "code",
   "execution_count": null,
   "metadata": {},
   "outputs": [],
   "source": []
  }
 ],
 "metadata": {
  "interpreter": {
   "hash": "de9cc463952f3dcd21173e1b7e3fe4ad90fa14f2c91533333322755e12226c0e"
  },
  "kernelspec": {
   "display_name": "Python 3.8.8 64-bit ('min_ds-env': conda)",
   "language": "python",
   "name": "python3"
  },
  "language_info": {
   "codemirror_mode": {
    "name": "ipython",
    "version": 3
   },
   "file_extension": ".py",
   "mimetype": "text/x-python",
   "name": "python",
   "nbconvert_exporter": "python",
   "pygments_lexer": "ipython3",
   "version": "3.8.8"
  },
  "orig_nbformat": 4
 },
 "nbformat": 4,
 "nbformat_minor": 2
}
